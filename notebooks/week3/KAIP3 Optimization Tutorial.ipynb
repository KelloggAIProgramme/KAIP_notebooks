{
 "cells": [
  {
   "cell_type": "markdown",
   "metadata": {},
   "source": [
    "# KAIP Week 3 - Tutorial 1\n",
    "# Optimization\n",
    "\n",
    "Optimization is one of the most important topics in machine learning and AI. \"Optimization\" is the process of performing a task in the best possible way. For example, achieving maximum profit, lowest cost, shortest time, etc in different scenarios.\n",
    "\n",
    "Optimization problems are ubiquitous, be it humans unconsciously determining the shortest path while walking, to neural networks being trained to perform advanced tasks.\n",
    "In this notebook, we will look at several classes of optimization problems and algorithms to solve them.\n",
    "\n",
    "The notebook is structured as follows:\n",
    "    1. Linear Programming\n",
    "        - Simplex method\n",
    "    2. Travelling Salesman Problem\n",
    "        - Brute force\n",
    "        - Genetic Algorithm\n",
    "    3. Nonlinear Programming\n",
    "        - Gradient Descent\n",
    "        - Hill Climbing Algorithm\n",
    "        \n",
    "        \n",
    "__Group Exercise__ : Take 5mn with your team to review the main points of the lecture regarding optimisation, why is it important in general, and also in the context of AI. Summarize the main ideas and the take home messages."
   ]
  },
  {
   "cell_type": "markdown",
   "metadata": {},
   "source": [
    "## I. Linear programming\n",
    "\n",
    "Linear programming is a method to achieve the best outcome (such as maximum profit or lowest cost) in a mathematical model whose requirements are represented by linear relationships. It has revolutionized the way many problems are solved in various domains, which include food and agriculture, engineering, transportation, manufacturing and energy: https://sciencing.com/five-application-linear-programming-techniques-7789072.html"
   ]
  },
  {
   "cell_type": "markdown",
   "metadata": {},
   "source": [
    "### 0. Group exercise\n",
    "\n",
    "Take 5mn with your team to review the main points of the lecture regarding Linear Programming, as well as the simplex and interior point methods. Summarize the main ideas and the take home messages."
   ]
  },
  {
   "cell_type": "markdown",
   "metadata": {},
   "source": [
    "### 1. Simplex method\n",
    "Let's look at a simple example, similar to the one in the lecture.\n",
    "\n",
    "Company LPP Ltd produces two products x and y. <br>\n",
    "\n",
    "**Constraints**:\n",
    "    - Material Constraint: Each unit of x consumes 3 kgs of raw material and each unit of y consumes 2 kgs of material. Material availability is limited to 18 kgs. \n",
    "    - Sales Constraint: Maximum number units of x that can be sold is 4 and Maximum number units of y that can be sold is 6. \n",
    "    - Profit Constraint: Each unit of x gives a profit of 3$ and each unit of y gives a profit of 5$.\n",
    "\n",
    "**Objective**: Find out how many units of x & y should be produced in order to maximize profits."
   ]
  },
  {
   "cell_type": "markdown",
   "metadata": {},
   "source": [
    "\n",
    "**Step 1**: Convert the objective and constraints to equations:\n",
    "\n",
    "- Profit : maximize $Z = 3x + 5y$\n",
    "- Constraints: (1) Materials: $ 3x + 2y ≤ 18$, (2) Sales constraints: $x ≤ 4$ and $y ≤ 6$ (3) Positivy constraints (we cannot have less than 0 products) $x \\geq 0$ and $y \\geq 0$"
   ]
  },
  {
   "cell_type": "markdown",
   "metadata": {},
   "source": [
    "**Step 2**: Plot the equations"
   ]
  },
  {
   "cell_type": "markdown",
   "metadata": {},
   "source": [
    "<img src=\"linear_programming_image.jpg\">"
   ]
  },
  {
   "cell_type": "markdown",
   "metadata": {},
   "source": [
    "**Step 3**: Optimize using the simplex method from scipy (a Python library)"
   ]
  },
  {
   "cell_type": "code",
   "execution_count": null,
   "metadata": {},
   "outputs": [],
   "source": [
    "# Import library \n",
    "from scipy.optimize import linprog\n",
    "\n",
    "# Define objective function Z = 3x + 5y\n",
    "c = [-3, -5]\n",
    "\n",
    "# Define constraints: 3x + 2y <= 18, x<= 4, y<=6\n",
    "A = [[3, 2], [1,0], [0,1]]\n",
    "b = [18, 4, 6]\n",
    "\n",
    "# Call optimization function that was imported from libary\n",
    "res = linprog(c, A_ub = A, b_ub = b, method='simplex')\n",
    "print(res)"
   ]
  },
  {
   "cell_type": "markdown",
   "metadata": {},
   "source": [
    "## II. Traveling salesman\n",
    "\n",
    "The travelling salesman problem (TSP) asks the following question: \"*Given a list of cities and the distances between each pair of cities, what is the shortest possible route that visits each city and returns to the origin city?*\"\n",
    "\n",
    "The travelling salesman problem falls in a different class of optimization, because we do not have a continuous function to optimize. \n",
    "TSP has a lot of applications: vehicle routing, design of microchips, etc.\n",
    "https://www.intechopen.com/books/traveling-salesman-problem-theory-and-applications/traveling-salesman-problem-an-overview-of-applications-formulations-and-solution-approaches"
   ]
  },
  {
   "cell_type": "markdown",
   "metadata": {},
   "source": [
    "### 0. Group exercise\n",
    "\n",
    "Take 5mn with your team to review the main points of the lecture regarding the Traveling Salesman Problem, as well as Genetic Algorithm. Summarize the main ideas and the take home messages."
   ]
  },
  {
   "cell_type": "markdown",
   "metadata": {},
   "source": [
    "### 1. Brute Force\n",
    "\n",
    "One way to solve the TSP is to use brute force. That is, try every possible combination! \n",
    "\n",
    "First, how do we obtain the number of possible routes? Let's say we have 25 cities to visit. We first need to choose a starting city: we have 25 choices. Then for the second city, we only have 24 choices. Then 23 choices for the third, and so on so forth. <br>\n",
    "The total number of choices is then N = 25 x 24 x 23 x ... x 1 = 25! <br>\n",
    "Let's try a couple of examples. "
   ]
  },
  {
   "cell_type": "code",
   "execution_count": null,
   "metadata": {
    "collapsed": true
   },
   "outputs": [],
   "source": [
    "### Import libraries\n",
    "from KAIP3_optimization_helpers import *\n",
    "import time\n",
    "import matplotlib.pyplot as plt"
   ]
  },
  {
   "cell_type": "code",
   "execution_count": null,
   "metadata": {},
   "outputs": [],
   "source": [
    "### Choose number of cities\n",
    "n = 8\n",
    "\n",
    "# Generate n random cities\n",
    "city_list = generate_cities(n)\n",
    "\n",
    "# Plot the location of cities\n",
    "plot_cities(city_list)"
   ]
  },
  {
   "cell_type": "code",
   "execution_count": null,
   "metadata": {},
   "outputs": [],
   "source": [
    "### Let's time how long it takes to run this \n",
    "start = time.time()\n",
    "\n",
    "dist, route, counter = brute_force_tsp(city_list)\n",
    "\n",
    "elapsed_time = time.time() - start\n",
    "\n",
    "print(\"Brute force took \" + str(elapsed_time) + \" seconds to run.\" )\n",
    "print(\"The shortest route is \" + str(route) + \" which is \" + str(dist) + \"km long.\")\n",
    "\n",
    "plot_route(route)"
   ]
  },
  {
   "cell_type": "markdown",
   "metadata": {},
   "source": [
    "__Question__ : For different numbers of cities, how does the time of brute forcing vary? Run the code above to get the different times for each n in [1, 2, 3, 4, 5, 6, 7, 8, 9] then fill in the run_times array in the next cell. \n"
   ]
  },
  {
   "cell_type": "code",
   "execution_count": null,
   "metadata": {},
   "outputs": [],
   "source": [
    "n_cities_list = [1, 2, 3, 4, 5, 6, 7, 8, 9]\n",
    "\n",
    "run_times = [] #fill in your answer times to the question here\n",
    "\n",
    "plt.plot(run_times, n_cities_list)\n",
    "plt.show()"
   ]
  },
  {
   "cell_type": "markdown",
   "metadata": {},
   "source": [
    "### 2. Genetic algorithm\n",
    "\n"
   ]
  },
  {
   "cell_type": "code",
   "execution_count": null,
   "metadata": {},
   "outputs": [],
   "source": [
    "### Choose number of cities\n",
    "n = 50\n",
    "\n",
    "## Generate n random cities\n",
    "city_list = generate_cities(n)\n",
    "\n",
    "# Plot the locations\n",
    "plot_cities(city_list)"
   ]
  },
  {
   "cell_type": "code",
   "execution_count": null,
   "metadata": {},
   "outputs": [],
   "source": [
    "### Run the genetic algorithm\n",
    "start = time.time()\n",
    "best_route_GA, best_dist_GA, progress_GA = geneticAlgorithm(population=city_list, popSize=100, eliteSize=20, mutationRate=0.001, generations=500)\n",
    "elapsed_time_GA = time.time() - start\n",
    "\n",
    "print(\"Genetic algorithm took \" + str(elapsed_time_GA) + \" seconds to run.\" )\n",
    "print(\"The shortest route is \" + str(best_route_GA) + \" which is \" + str(best_dist_GA) + \"km long.\")\n",
    "\n",
    "### Plot the best route\n",
    "plot_route(best_route_GA)\n",
    "\n",
    "### Plot the progress of the GA\n",
    "plot_progress(progress_GA)\n"
   ]
  },
  {
   "cell_type": "markdown",
   "metadata": {},
   "source": [
    "**Question**: How much time does it take for the GA to optimize the TSP for 30 cities? For 60 cities? For a given num ber of cities, try changing the population size, the mutation rate, etc. Summarize your "
   ]
  },
  {
   "cell_type": "code",
   "execution_count": null,
   "metadata": {
    "collapsed": true
   },
   "outputs": [],
   "source": []
  },
  {
   "cell_type": "markdown",
   "metadata": {
    "collapsed": true
   },
   "source": [
    "## III. Nonlinear Programming\n",
    "This is the process of solving an optimization function where the constraints are nonlinear. \n",
    "We will look at two examples, where we will try to find the maximum of a non linear function. This is example is central to machine learning, as this is essentially what happens when a neural network is being trained ! \n"
   ]
  },
  {
   "cell_type": "markdown",
   "metadata": {},
   "source": [
    "### 0. Group exercise\n",
    "\n",
    "Take 5mn with your team to review the main points of the lecture regarding the nonlinear optimization, as well as gradient descent and hill climbing algorithms. Summarize the main ideas and the take home message."
   ]
  },
  {
   "cell_type": "markdown",
   "metadata": {},
   "source": [
    "### 1. Gradient Descent\n",
    "Consider the function $$f(x) = 2*sin(x) + x + 1 $$\n",
    "The goal is to find the maximum of the function using an optimization algorithm called gradient descent."
   ]
  },
  {
   "cell_type": "code",
   "execution_count": null,
   "metadata": {
    "collapsed": true
   },
   "outputs": [],
   "source": [
    "## Import libraries\n",
    "%matplotlib notebook\n",
    "import numpy as np\n",
    "import matplotlib.pyplot as plt\n",
    "from matplotlib import animation\n",
    "from mpl_toolkits.mplot3d import Axes3D\n",
    "import opt\n",
    "%load_ext autoreload\n",
    "%autoreload "
   ]
  },
  {
   "cell_type": "markdown",
   "metadata": {},
   "source": [
    "### 1.1 Initialization"
   ]
  },
  {
   "cell_type": "code",
   "execution_count": null,
   "metadata": {
    "collapsed": true
   },
   "outputs": [],
   "source": [
    "# Initialize domain and function\n",
    "x = np.arange(0, 10, 0.01)\n",
    "y = opt.func_1(x)\n",
    "\n",
    "# Plot the function\n",
    "opt.plot_func1(x,y)"
   ]
  },
  {
   "cell_type": "markdown",
   "metadata": {},
   "source": [
    "### 1.2 Run gradient descent"
   ]
  },
  {
   "cell_type": "code",
   "execution_count": null,
   "metadata": {
    "collapsed": true
   },
   "outputs": [],
   "source": [
    "# Initialize x0, learning rate and number of epochs\n",
    "x0 = 1 \n",
    "learning_rate = 0.1   \n",
    "epoch = 30\n",
    "\n",
    "### Let's time how long it takes to run this \n",
    "start = time.time()\n",
    "\n",
    "# Run gradient descent\n",
    "x_gd, y_gd = opt.gradient_ascent(x0, learning_rate, epoch)\n",
    "\n",
    "elapsed_time = time.time() - start\n",
    "print(\"Gradient Descent took \" + str(elapsed_time) + \" seconds to run.\" )"
   ]
  },
  {
   "cell_type": "markdown",
   "metadata": {},
   "source": [
    "### 1.3 Animation of Gradient Descent"
   ]
  },
  {
   "cell_type": "code",
   "execution_count": null,
   "metadata": {
    "collapsed": true
   },
   "outputs": [],
   "source": [
    "plt.rcdefaults()\n",
    "\n",
    "# Plot base figure\n",
    "fig, ax = opt.plot_base_func_1(x,y)\n",
    "ax.plot(x, y, lw = 0.9, color = 'k')\n",
    "\n",
    "# Define plot elements\n",
    "line, = ax.plot([], [], 'r', label = 'Gradient Ascent', lw = 1.5)\n",
    "point, = ax.plot([], [], 'bo')\n",
    "value_display = ax.text(0.02, 0.02, '', transform=ax.transAxes)\n",
    "\n",
    "# Initialize animation\n",
    "def init():\n",
    "    line.set_data([], [])\n",
    "    point.set_data([], [])\n",
    "    value_display.set_text('')\n",
    "    return line, point, value_display\n",
    "\n",
    "# Animate \n",
    "def animate(i):\n",
    "    line.set_data(x_gd[:i], y_gd[:i])\n",
    "    point.set_data(x_gd[i], y_gd[i])\n",
    "    value_display.set_text('Max = ' + str(y_gd[i]))\n",
    "    return line, point, value_display\n",
    "\n",
    "ax.legend(loc = 2)\n",
    "anim = animation.FuncAnimation(fig, animate, init_func=init,\n",
    "                               frames=len(x_gd), interval=120, \n",
    "                               repeat_delay=60, blit=True)\n",
    "\n",
    "plt.show()"
   ]
  },
  {
   "cell_type": "markdown",
   "metadata": {},
   "source": [
    "**Question**: Change the initialization parameters of gradient descent to get to the second maximum. How much time does it take?"
   ]
  },
  {
   "cell_type": "code",
   "execution_count": null,
   "metadata": {
    "collapsed": true
   },
   "outputs": [],
   "source": []
  },
  {
   "cell_type": "markdown",
   "metadata": {},
   "source": [
    "### 2. Hill Climbing Algorithm\n",
    "Consider the function $$f(x,y) = e^{-((x+1)^2 + (y+1)^2)} + 2*e^{-((x-1)^2 + (y-1)^2)} $$\n",
    "The goal is to find the maximum of the function using an optimization algorithm called Hill Climbing Algorithm."
   ]
  },
  {
   "cell_type": "markdown",
   "metadata": {},
   "source": [
    "### 2.1 Initialization"
   ]
  },
  {
   "cell_type": "code",
   "execution_count": null,
   "metadata": {
    "collapsed": true
   },
   "outputs": [],
   "source": [
    "# Initialize function\n",
    "x, y = np.meshgrid(np.arange(-3, 3, 0.05), np.arange(-3, 3, 0.05))\n",
    "z = opt.func_2(x, y)"
   ]
  },
  {
   "cell_type": "markdown",
   "metadata": {},
   "source": [
    "### 2.2 Run Hill climbing algorithm"
   ]
  },
  {
   "cell_type": "code",
   "execution_count": null,
   "metadata": {
    "collapsed": true
   },
   "outputs": [],
   "source": [
    "# Initialize starting point and learning rate for hill climbing algorithm\n",
    "x0 = [0,-2]\n",
    "learning_rate = 0.7\n",
    "epoch = 20\n",
    "\n",
    "### Let's time how long it takes to run this \n",
    "start = time.time()\n",
    "\n",
    "x_hc, y_hc, z_hc =opt.hill_climbing(x0, learning_rate, epoch)\n",
    "\n",
    "elapsed_time = time.time() - start\n",
    "print(\"Hill climbing algorithm took \" + str(elapsed_time) + \" seconds to run.\" )"
   ]
  },
  {
   "cell_type": "markdown",
   "metadata": {},
   "source": [
    "### 2.3 Animate the optimization\n"
   ]
  },
  {
   "cell_type": "code",
   "execution_count": null,
   "metadata": {
    "collapsed": true
   },
   "outputs": [],
   "source": [
    "x, y = np.meshgrid(np.arange(-3, 3, 0.05), np.arange(-3, 3, 0.05))\n",
    "z = opt.func_2(x, y)\n",
    "\n",
    "fig1 = plt.figure()\n",
    "ax1 = Axes3D(fig1)\n",
    "surf = ax1.plot_surface(x, y, z, edgecolor='none', rstride=1, cstride=1, cmap='jet')\n",
    "\n",
    "ax1.set_xlabel(r'$x$')\n",
    "ax1.set_ylabel(r'$y$')\n",
    "ax1.set_zlabel(r'$z$')"
   ]
  },
  {
   "cell_type": "code",
   "execution_count": null,
   "metadata": {
    "collapsed": true
   },
   "outputs": [],
   "source": [
    "# Create animation\n",
    "line, = ax1.plot([], [], [], 'r-', label = 'Hill Climbing Algorithm', lw = 1.5)\n",
    "point, = ax1.plot([], [], [], 'yo')\n",
    "display_value = ax1.text(2., 2., 27.5, '', transform=ax1.transAxes)\n",
    "\n",
    "def init():\n",
    "    line.set_data([], [])\n",
    "    line.set_3d_properties([])\n",
    "    point.set_data([], [])\n",
    "    point.set_3d_properties([])\n",
    "    display_value.set_text('')\n",
    "    return line, point, display_value\n",
    "\n",
    "def animate(i):\n",
    "    line.set_data(x_hc[:i], y_hc[:i])\n",
    "    line.set_3d_properties(z_hc[:i])\n",
    "    point.set_data(x_hc[i], y_hc[i])\n",
    "    point.set_3d_properties(z_hc[i])\n",
    "    display_value.set_text('Min = ' + str(z_hc[i]))\n",
    "    return line, point, display_value\n",
    "\n",
    "ax1.legend(loc = 1)\n",
    "\n",
    "anim = animation.FuncAnimation(fig1, animate, init_func=init, frames=len(x_hc), interval=120,repeat_delay=60, blit=True)\n",
    "\n",
    "plt.show()"
   ]
  },
  {
   "cell_type": "markdown",
   "metadata": {},
   "source": [
    "**Question**: What initialization to use to get to the second maximum (red one)? How much time does it take?"
   ]
  },
  {
   "cell_type": "markdown",
   "metadata": {
    "collapsed": true
   },
   "source": [
    "## Appendix. Business Process Model Notation (BPMN)\n",
    "\n",
    "BPMN is a convenient paradigm for desigining workflows, which we will make use of during the course . Take 5mn to sign up to https://cawemo.com/ ."
   ]
  },
  {
   "cell_type": "code",
   "execution_count": null,
   "metadata": {
    "collapsed": true
   },
   "outputs": [],
   "source": []
  }
 ],
 "metadata": {
  "kernelspec": {
   "display_name": "Python 3",
   "language": "python",
   "name": "python3"
  },
  "language_info": {
   "codemirror_mode": {
    "name": "ipython",
    "version": 3
   },
   "file_extension": ".py",
   "mimetype": "text/x-python",
   "name": "python",
   "nbconvert_exporter": "python",
   "pygments_lexer": "ipython3",
   "version": "3.6.3"
  }
 },
 "nbformat": 4,
 "nbformat_minor": 2
}
