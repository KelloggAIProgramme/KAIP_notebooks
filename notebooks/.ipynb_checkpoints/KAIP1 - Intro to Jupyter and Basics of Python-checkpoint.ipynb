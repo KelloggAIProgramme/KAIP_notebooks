{
 "cells": [
  {
   "cell_type": "markdown",
   "metadata": {},
   "source": [
    "<sup>This notebook is adapted from the Lab01 notebook in https://github.com/data-8/data8assets and licensed for reuse under [Creative Commons Attribution-NonCommercial 4.0 International (CC BY-NC 4.0)](http://creativecommons.org/licenses/by-nc/4.0/).</sup>\n",
    "\n",
    "# Exercise 1: Expressions <img src=\"kaip_logo_header.png\" align=\"right\">\n",
    "\n",
    "In this exercise, you'll learn how to:\n",
    "\n",
    "1. navigate Jupyter notebooks (like this one);\n",
    "2. write and evaluate some basic *expressions* in Python, the computer language of the course.\n",
    "3. learn about the main building blocks of programs, like functions and classes"
   ]
  },
  {
   "cell_type": "markdown",
   "metadata": {},
   "source": [
    "# 1. Jupyter notebooks\n",
    "This webpage is called a Jupyter notebook. A notebook is a place to write programs and view their results.\n",
    "\n",
    "## 1.1. Text cells\n",
    "In a notebook, each rectangle containing text or code is called a *cell*.\n",
    "\n",
    "Text cells (like this one) can be edited by double-clicking on them. They're written in a simple format called [Markdown](http://daringfireball.net/projects/markdown/syntax) to add formatting and section headings.  You don't need to learn Markdown, but you might want to.\n",
    "\n",
    "After you edit a text cell, click the \"run cell\" button at the top that looks like ▶| to confirm any changes. (Try not to delete the instructions of the lab.)"
   ]
  },
  {
   "cell_type": "markdown",
   "metadata": {},
   "source": [
    "**Question 1.1.1.** This paragraph is in its own text cell.  Try editing it so that this sentence is the last sentence in the paragraph, and then click the \"run cell\" ▶| button .  This sentence, for example, should be deleted.  So should this one."
   ]
  },
  {
   "cell_type": "markdown",
   "metadata": {},
   "source": [
    "## 1.2. Code cells\n",
    "Other cells contain code in the Python 3 language. Running a code cell will execute all of the code it contains.\n",
    "\n",
    "To run the code in a code cell, first click on that cell to activate it.  It'll be highlighted with a little green or blue rectangle.  Next, either press ▶| or hold down the `shift` key and press `return` or `enter`.\n",
    "\n",
    "Try running this cell:"
   ]
  },
  {
   "cell_type": "code",
   "execution_count": 2,
   "metadata": {},
   "outputs": [
    {
     "name": "stdout",
     "output_type": "stream",
     "text": [
      "Hello, World!\n"
     ]
    }
   ],
   "source": [
    "print(\"Hello, World!\")"
   ]
  },
  {
   "cell_type": "markdown",
   "metadata": {},
   "source": [
    "And this one:"
   ]
  },
  {
   "cell_type": "code",
   "execution_count": 3,
   "metadata": {},
   "outputs": [
    {
     "name": "stdout",
     "output_type": "stream",
     "text": [
      "👋, 🌏!\n"
     ]
    }
   ],
   "source": [
    "print(\"\\N{WAVING HAND SIGN}, \\N{EARTH GLOBE ASIA-AUSTRALIA}!\")"
   ]
  },
  {
   "cell_type": "markdown",
   "metadata": {},
   "source": [
    "The fundamental building block of Python code is an expression. Cells can contain multiple lines with multiple expressions. When you run a cell, the lines of code are executed in the order in which they appear. Every `print` expression prints a line. Run the next cell and notice the order of the output."
   ]
  },
  {
   "cell_type": "code",
   "execution_count": 4,
   "metadata": {},
   "outputs": [
    {
     "name": "stdout",
     "output_type": "stream",
     "text": [
      "First this line is printed,\n",
      "and then this one.\n"
     ]
    }
   ],
   "source": [
    "print(\"First this line,\")\n",
    "print(\"and then this one.\")"
   ]
  },
  {
   "cell_type": "markdown",
   "metadata": {},
   "source": [
    "**Question 1.2.1.** Change the cell above so that it prints out:\n",
    "\n",
    "    First this line,\n",
    "    then the whole 🌏,\n",
    "    and then this one.\n",
    "\n",
    "*Hint:* If you're stuck on the Earth symbol for more than a few minutes, try talking to a neighbor or a TA.  That's a good idea for any lab problem."
   ]
  },
  {
   "cell_type": "code",
   "execution_count": 5,
   "metadata": {},
   "outputs": [
    {
     "name": "stdout",
     "output_type": "stream",
     "text": [
      "First this line,\n",
      "then the whole 🌏\n",
      "and then this one.\n"
     ]
    }
   ],
   "source": [
    "print(\"First this line,\")\n",
    "print(\"then the whole \\N{EARTH GLOBE ASIA-AUSTRALIA}\")\n",
    "print(\"and then this one.\")"
   ]
  },
  {
   "cell_type": "markdown",
   "metadata": {},
   "source": [
    "## 1.3. Writing Jupyter notebooks\n",
    "You can use Jupyter notebooks for your own projects or documents.  When you make your own notebook, you'll need to create your own cells for text and code.\n",
    "\n",
    "To add a cell, click the + button in the menu bar.  It'll start out as a text cell.  You can change it to a code cell by clicking inside it so it's highlighted, clicking the drop-down box next to the restart (⟳) button in the menu bar, and choosing \"Code\".\n",
    "\n",
    "**Question 1.3.1.** Add a code cell below this one.  Write code in it that prints out:\n",
    "   \n",
    "    A whole new cell! ♪🌏♪\n",
    "\n",
    "(That musical note symbol is like the Earth symbol.  Its long-form name is `\\N{EIGHTH NOTE}`.)\n",
    "\n",
    "Run your cell to verify that it works."
   ]
  },
  {
   "cell_type": "code",
   "execution_count": null,
   "metadata": {
    "collapsed": true
   },
   "outputs": [],
   "source": []
  },
  {
   "cell_type": "code",
   "execution_count": 6,
   "metadata": {},
   "outputs": [
    {
     "name": "stdout",
     "output_type": "stream",
     "text": [
      "a whole new cell! ♪🌏🌏\n"
     ]
    }
   ],
   "source": [
    "print(\"a whole new cell! \\N{EIGHTH NOTE}\\N{EARTH GLOBE ASIA-AUSTRALIA}\\N{EARTH GLOBE ASIA-AUSTRALIA}\")"
   ]
  },
  {
   "cell_type": "markdown",
   "metadata": {},
   "source": [
    "## 1.4. Errors\n",
    "Python is a language, and like natural human languages, it has rules.  It differs from natural language in two important ways:\n",
    "1. The rules are *simple*.  You can learn most of them in a few weeks and gain reasonable proficiency with the language in a semester.\n",
    "2. The rules are *rigid*.  If you're proficient in a natural language, you can understand a non-proficient speaker, glossing over small mistakes.  A computer running Python code is not smart enough to do that.\n",
    "\n",
    "Whenever you write code, you'll make mistakes.  When you run a code cell that has errors, Python will sometimes produce error messages to tell you what you did wrong.\n",
    "\n",
    "Errors are okay; even experienced programmers make many errors.  When you make an error, you just have to find the source of the problem, fix it, and move on.\n",
    "\n",
    "We have made an error in the next cell.  Run it and see what happens."
   ]
  },
  {
   "cell_type": "code",
   "execution_count": 8,
   "metadata": {},
   "outputs": [
    {
     "name": "stdout",
     "output_type": "stream",
     "text": [
      "This line is missing something.\n"
     ]
    }
   ],
   "source": [
    "print(\"This line is missing something.\")"
   ]
  },
  {
   "cell_type": "markdown",
   "metadata": {},
   "source": [
    "You should see something like this (minus our annotations):\n",
    "\n",
    "<img src=\"error.jpg\"/>\n",
    "\n",
    "The last line of the error output attempts to tell you what went wrong.  The *syntax* of a language is its structure, and this `SyntaxError` tells you that you have created an illegal structure.  \"`EOF`\" means \"end of file,\" so the message is saying Python expected you to write something more (in this case, a right parenthesis) before finishing the cell.\n",
    "\n",
    "There's a lot of terminology in programming languages, but you don't need to know it all in order to program effectively. If you see a cryptic message like this, you can often get by without deciphering it.  (Of course, if you're frustrated, ask a neighbor or the lecturer for help.)\n",
    "\n",
    "Try to fix the code above so that you can run the cell and see the intended message instead of an error."
   ]
  },
  {
   "cell_type": "markdown",
   "metadata": {},
   "source": [
    "## 1.5. Shortcuts and tips!"
   ]
  },
  {
   "cell_type": "markdown",
   "metadata": {},
   "source": [
    "Pressing TAB can kick off tab-completion. For example, press TAB after `math.` below and see what happens:"
   ]
  },
  {
   "cell_type": "code",
   "execution_count": 9,
   "metadata": {
    "collapsed": true
   },
   "outputs": [],
   "source": [
    "import math\n",
    "            "
   ]
  },
  {
   "cell_type": "code",
   "execution_count": 10,
   "metadata": {},
   "outputs": [],
   "source": []
  },
  {
   "cell_type": "markdown",
   "metadata": {},
   "source": [
    "# 2. Numbers\n",
    "\n",
    "Quantitative information arises everywhere in data science. In addition to representing commands to print out lines, expressions can represent numbers and methods of combining numbers. The expression `3.2500` evaluates to the number 3.25. (Run the cell and see.)"
   ]
  },
  {
   "cell_type": "code",
   "execution_count": 11,
   "metadata": {},
   "outputs": [
    {
     "data": {
      "text/plain": [
       "3.25"
      ]
     },
     "execution_count": 11,
     "metadata": {},
     "output_type": "execute_result"
    }
   ],
   "source": [
    "3.2500"
   ]
  },
  {
   "cell_type": "markdown",
   "metadata": {},
   "source": [
    "Notice that we didn't have to `print`. When you run a notebook cell, if the last line has a value, then Jupyter helpfully prints out that value for you. However, it won't print out prior lines automatically."
   ]
  },
  {
   "cell_type": "code",
   "execution_count": 16,
   "metadata": {
    "scrolled": true
   },
   "outputs": [
    {
     "name": "stdout",
     "output_type": "stream",
     "text": [
      "2\n",
      "3\n"
     ]
    },
    {
     "data": {
      "text/plain": [
       "4"
      ]
     },
     "execution_count": 16,
     "metadata": {},
     "output_type": "execute_result"
    }
   ],
   "source": [
    "print(2)\n",
    "print(3)\n",
    "4"
   ]
  },
  {
   "cell_type": "markdown",
   "metadata": {},
   "source": [
    "Above, you should see that 4 is the value of the last expression, 2 is printed, but 3 is lost forever because it was neither printed nor last.\n",
    "\n",
    "You don't want to print everything all the time anyway.  But if you feel sorry for 3, change the cell above to print it."
   ]
  },
  {
   "cell_type": "markdown",
   "metadata": {},
   "source": [
    "## 2.1. Arithmetic\n",
    "The line in the next cell subtracts.  Its value is what you'd expect.  Run it."
   ]
  },
  {
   "cell_type": "code",
   "execution_count": 17,
   "metadata": {},
   "outputs": [
    {
     "data": {
      "text/plain": [
       "1.75"
      ]
     },
     "execution_count": 17,
     "metadata": {},
     "output_type": "execute_result"
    }
   ],
   "source": [
    "3.25 - 1.5"
   ]
  },
  {
   "cell_type": "markdown",
   "metadata": {},
   "source": [
    "Many basic arithmetic operations are built in to Python.  The textbook section on [Expressions](http://www.inferentialthinking.com/chapters/03/1/expressions.html) describes all the arithmetic operators used in the course.  The common operator that differs from typical math notation is `**`, which raises one number to the power of the other. So, `2**3` stands for $2^3$ and evaluates to 8. \n",
    "\n",
    "The order of operations is what you learned in elementary school, and Python also has parentheses.  For example, compare the outputs of the cells below. Use parentheses for a happy new year!"
   ]
  },
  {
   "cell_type": "code",
   "execution_count": 18,
   "metadata": {},
   "outputs": [
    {
     "data": {
      "text/plain": [
       "-725.0"
      ]
     },
     "execution_count": 18,
     "metadata": {},
     "output_type": "execute_result"
    }
   ],
   "source": [
    "1+6*5-6*3**2*2**3/4*7"
   ]
  },
  {
   "cell_type": "code",
   "execution_count": 19,
   "metadata": {},
   "outputs": [
    {
     "data": {
      "text/plain": [
       "2017.0"
      ]
     },
     "execution_count": 19,
     "metadata": {},
     "output_type": "execute_result"
    }
   ],
   "source": [
    "1+(6*5-(6*3))**2*((2**3)/4*7)"
   ]
  },
  {
   "cell_type": "markdown",
   "metadata": {},
   "source": [
    "In standard math notation, the first expression is\n",
    "\n",
    "$$1 + 6 \\times 5 - 6 \\times 3^2 \\times \\frac{2^3}{4} \\times 7,$$\n",
    "\n",
    "while the second expression is\n",
    "\n",
    "$$1 + (6 \\times 5 - (6 \\times 3))^2 \\times (\\frac{(2^3)}{4} \\times 7).$$\n",
    "\n",
    "**Question 2.1.1.** Write a Python expression in this next cell that's equal to $5 \\times (3 \\frac{10}{11}) - 50 \\frac{1}{3} + 2^{.5 \\times 22} - \\frac{7}{33}$.  That's five times three and ten elevenths, minus fifty and a third, plus two to the power of half 22, minus 7 33rds.  By \"$3 \\frac{10}{11}$\" we mean $3+\\frac{10}{11}$, not $3 \\times \\frac{10}{11}$.\n",
    "\n",
    "Replace the ellipses (`...`) with your expression.  Try to use parentheses only when necessary.\n",
    "\n",
    "*Hint:* The correct output should start with a familiar number."
   ]
  },
  {
   "cell_type": "code",
   "execution_count": 20,
   "metadata": {},
   "outputs": [
    {
     "data": {
      "text/plain": [
       "2017.0"
      ]
     },
     "execution_count": 20,
     "metadata": {},
     "output_type": "execute_result"
    }
   ],
   "source": [
    "5*(3+10/11)-(50+1/3)+(2**(0.5*22))-(7/33)"
   ]
  },
  {
   "cell_type": "markdown",
   "metadata": {},
   "source": [
    "# 3. Names\n",
    "In natural language, we have terminology that lets us quickly reference very complicated concepts.  We don't say, \"That's a large mammal with brown fur and sharp teeth!\"  Instead, we just say, \"Bear!\"\n",
    "\n",
    "Similarly, an effective strategy for writing code is to define names for data as we compute it, like a lawyer would define terms for complex ideas at the start of a legal document to simplify the rest of the writing.\n",
    "\n",
    "In Python, we do this with *assignment statements*. An assignment statement has a name on the left side of an `=` sign and an expression to be evaluated on the right."
   ]
  },
  {
   "cell_type": "code",
   "execution_count": 22,
   "metadata": {
    "collapsed": true
   },
   "outputs": [],
   "source": [
    "ten = 3 * 2 + 4"
   ]
  },
  {
   "cell_type": "markdown",
   "metadata": {},
   "source": [
    "When you run that cell, Python first evaluates the first line.  It computes the value of the expression `3 * 2 + 4`, which is the number 10.  Then it gives that value the name `ten`.  At that point, the code in the cell is done running.\n",
    "\n",
    "After you run that cell, the value 10 is bound to the name `ten`:"
   ]
  },
  {
   "cell_type": "code",
   "execution_count": 23,
   "metadata": {},
   "outputs": [
    {
     "data": {
      "text/plain": [
       "10"
      ]
     },
     "execution_count": 23,
     "metadata": {},
     "output_type": "execute_result"
    }
   ],
   "source": [
    "ten"
   ]
  },
  {
   "cell_type": "markdown",
   "metadata": {},
   "source": [
    "The statement `ten = 3 * 2 + 4` is not asserting that `ten` is already equal to `3 * 2 + 4`, as we might expect by analogy with math notation.  Rather, that line of code changes what `ten` means; it now refers to the value 10, whereas before it meant nothing at all.\n",
    "\n",
    "If the designers of Python had been ruthlessly pedantic, they might have made us write\n",
    "\n",
    "    define the name ten to hereafter have the value of 3 * 2 + 4 \n",
    "\n",
    "instead.  You will probably appreciate the brevity of \"`=`\"!  But keep in mind that this is the real meaning.\n",
    "\n",
    "**Question 3.1.** Try writing code that uses a name (like `eleven`) that hasn't been assigned to anything.  You'll see an error!"
   ]
  },
  {
   "cell_type": "code",
   "execution_count": 24,
   "metadata": {},
   "outputs": [
    {
     "ename": "NameError",
     "evalue": "name 'eleven' is not defined",
     "output_type": "error",
     "traceback": [
      "\u001b[0;31m---------------------------------------------------------------------------\u001b[0m",
      "\u001b[0;31mNameError\u001b[0m                                 Traceback (most recent call last)",
      "\u001b[0;32m<ipython-input-24-8e55e0985f8c>\u001b[0m in \u001b[0;36m<module>\u001b[0;34m()\u001b[0m\n\u001b[0;32m----> 1\u001b[0;31m \u001b[0meleven\u001b[0m\u001b[0;34m\u001b[0m\u001b[0m\n\u001b[0m",
      "\u001b[0;31mNameError\u001b[0m: name 'eleven' is not defined"
     ]
    }
   ],
   "source": [
    "eleven"
   ]
  },
  {
   "cell_type": "markdown",
   "metadata": {},
   "source": [
    " A common pattern in Jupyter notebooks is to assign a value to a name and then immediately evaluate the name in the last line in the cell so that the value is displayed as output. "
   ]
  },
  {
   "cell_type": "code",
   "execution_count": 25,
   "metadata": {},
   "outputs": [
    {
     "data": {
      "text/plain": [
       "3.1415929203539825"
      ]
     },
     "execution_count": 25,
     "metadata": {},
     "output_type": "execute_result"
    }
   ],
   "source": [
    "close_to_pi = 355/113\n",
    "close_to_pi"
   ]
  },
  {
   "cell_type": "markdown",
   "metadata": {},
   "source": [
    "Another common pattern is that a series of lines in a single cell will build up a complex computation in stages, naming the intermediate results."
   ]
  },
  {
   "cell_type": "code",
   "execution_count": 26,
   "metadata": {},
   "outputs": [
    {
     "data": {
      "text/plain": [
       "20160"
      ]
     },
     "execution_count": 26,
     "metadata": {},
     "output_type": "execute_result"
    }
   ],
   "source": [
    "bimonthly_salary = 840\n",
    "monthly_salary = 2 * bimonthly_salary\n",
    "number_of_months_in_a_year = 12\n",
    "yearly_salary = number_of_months_in_a_year * monthly_salary\n",
    "yearly_salary"
   ]
  },
  {
   "cell_type": "markdown",
   "metadata": {},
   "source": [
    "Names in Python can have letters (upper- and lower-case letters are both okay and count as different letters), underscores, and numbers.  The first character can't be a number (otherwise a name might look like a number).  And names can't contain spaces, since spaces are used to separate pieces of code from each other.\n",
    "\n",
    "Other than those rules, what you name something doesn't matter *to Python*.  For example, this cell does the same thing as the above cell, except everything has a different name:"
   ]
  },
  {
   "cell_type": "code",
   "execution_count": 27,
   "metadata": {},
   "outputs": [
    {
     "data": {
      "text/plain": [
       "20160"
      ]
     },
     "execution_count": 27,
     "metadata": {},
     "output_type": "execute_result"
    }
   ],
   "source": [
    "a = 840\n",
    "b = 2 * a\n",
    "c = 12\n",
    "d = c * b\n",
    "d"
   ]
  },
  {
   "cell_type": "markdown",
   "metadata": {},
   "source": [
    "**However**, names are very important for making your code *readable* to yourself and others.  The cell above is shorter, but it's totally useless without an explanation of what it does.\n",
    "\n",
    "According to a famous joke among computer scientists, naming things is one of the two hardest problems in computer science.  (The other two are cache invalidation and \"off-by-one\" errors.  And people say computer scientists have an odd sense of humor...)"
   ]
  },
  {
   "cell_type": "markdown",
   "metadata": {},
   "source": [
    "**Question 3.2.** Assign the name `seconds_in_a_decade` to the number of seconds between midnight January 1, 2010 and midnight January 1, 2020.\n",
    "\n",
    "*Hint:* If you're stuck, the next section shows you how to get hints."
   ]
  },
  {
   "cell_type": "code",
   "execution_count": 31,
   "metadata": {},
   "outputs": [
    {
     "data": {
      "text/plain": [
       "290304000"
      ]
     },
     "execution_count": 31,
     "metadata": {},
     "output_type": "execute_result"
    }
   ],
   "source": [
    "# Change the next line so that it computes the number of\n",
    "# seconds in a decade and assigns that number the name\n",
    "# seconds_in_a_decade.\n",
    "minute = 60 \n",
    "hour = 60*minute\n",
    "day = 24*hour\n",
    "week = 7*day\n",
    "month = 4*week\n",
    "year = 12*month\n",
    "seconds_in_a_decade = 10*year\n",
    "\n",
    "# We've put this line in this cell so that it will print\n",
    "# the value you've given to seconds_in_a_decade when you\n",
    "# run it.  You don't need to change this.\n",
    "seconds_in_a_decade"
   ]
  },
  {
   "cell_type": "markdown",
   "metadata": {},
   "source": [
    "## 3.1. Comments\n",
    "You may have noticed this line in the cell above:\n",
    "\n",
    "    # Change the next line so that it computes the number of\n",
    "\n",
    "That is called a *comment*.  It doesn't make anything happen in Python; Python ignores anything on a line after a #.  Instead, it's there to communicate something about the code to you, the human reader.  Comments are extremely useful.\n",
    "\n",
    "<img src=\"http://imgs.xkcd.com/comics/future_self.png\">"
   ]
  },
  {
   "cell_type": "markdown",
   "metadata": {},
   "source": [
    "## 3.2. Application: A physics experiment\n",
    "\n",
    "On the Apollo 15 mission to the Moon, astronaut David Scott famously replicated Galileo's physics experiment in which he showed that gravity accelerates objects of different mass at the same rate. Because there is no air resistance for a falling object on the surface of the Moon, even two objects with very different masses and densities should fall at the same rate. David Scott compared a feather and a hammer.\n",
    "\n",
    "You can run the following cell to watch a video of the experiment."
   ]
  },
  {
   "cell_type": "code",
   "execution_count": 32,
   "metadata": {},
   "outputs": [
    {
     "data": {
      "image/jpeg": "[encoded data removed]",
      "text/html": [
       "\n",
       "        <iframe\n",
       "            width=\"400\"\n",
       "            height=\"300\"\n",
       "            src=\"https://www.youtube.com/embed/U7db6ZeLR5s\"\n",
       "            frameborder=\"0\"\n",
       "            allowfullscreen\n",
       "        ></iframe>\n",
       "        "
      ],
      "text/plain": [
       "<IPython.lib.display.YouTubeVideo at 0x104954ac8>"
      ]
     },
     "execution_count": 32,
     "metadata": {},
     "output_type": "execute_result"
    }
   ],
   "source": [
    "from IPython.display import YouTubeVideo\n",
    "# The original URL is:\n",
    "#   https://www.youtube.com/watch?v=U7db6ZeLR5s\n",
    "YouTubeVideo(\"U7db6ZeLR5s\")"
   ]
  },
  {
   "cell_type": "markdown",
   "metadata": {},
   "source": [
    "Here's the transcript of the video:\n",
    "\n",
    "**167:22:06 Scott**: Well, in my left hand, I have a feather; in my right hand, a hammer. And I guess one of the reasons we got here today was because of a gentleman named Galileo, a long time ago, who made a rather significant discovery about falling objects in gravity fields. And we thought where would be a better place to confirm his findings than on the Moon. And so we thought we'd try it here for you. The feather happens to be, appropriately, a falcon feather for our Falcon. And I'll drop the two of them here and, hopefully, they'll hit the ground at the same time. \n",
    "\n",
    "**167:22:43 Scott**: How about that!\n",
    "\n",
    "**167:22:45 Allen**: How about that! (Applause in Houston)\n",
    "\n",
    "**167:22:46 Scott**: Which proves that Mr. Galileo was correct in his findings."
   ]
  },
  {
   "cell_type": "markdown",
   "metadata": {},
   "source": [
    "**Newton's Law.** Using this footage, we can also attempt to confirm another famous bit of physics: Newton's law of universal gravitation. Newton's laws predict that any object dropped near the surface of the Moon should fall\n",
    "\n",
    "$$\\frac{1}{2} G \\frac{M}{R^2} t^2 \\text{ meters}$$\n",
    "\n",
    "after $t$ seconds, where $G$ is a universal constant, $M$ is the moon's mass in kilograms, and $R$ is the moon's radius in meters.  So if we know $G$, $M$, and $R$, then Newton's laws let us predict how far an object will fall over any amount of time.\n",
    "\n",
    "To verify the accuracy of this law, we will calculate the difference between the predicted distance the hammer drops and the actual distance.  (If they are different, it might be because Newton's laws are wrong, or because our measurements are imprecise, or because there are other factors affecting the hammer for which we haven't accounted.)\n",
    "\n",
    "Someone studied the video and estimated that the hammer was dropped 113 cm from the surface. Counting frames in the video, the hammer falls for 1.2 seconds (36 frames)."
   ]
  },
  {
   "cell_type": "markdown",
   "metadata": {},
   "source": [
    "**Question 3.3.1.** Complete the code in the next cell to fill in the *data* from the experiment."
   ]
  },
  {
   "cell_type": "code",
   "execution_count": 33,
   "metadata": {
    "collapsed": true
   },
   "outputs": [],
   "source": [
    "# t, the duration of the fall in the experiment, in seconds.\n",
    "# Fill this in.\n",
    "time = 1.2\n",
    "\n",
    "# The estimated distance the hammer actually fell, in meters.\n",
    "# Fill this in.\n",
    "estimated_distance_m = 1.13"
   ]
  },
  {
   "cell_type": "markdown",
   "metadata": {},
   "source": [
    "**Question 3.3.2.** Now, complete the code in the next cell to compute the difference between the predicted and estimated distances (in meters) that the hammer fell in this experiment.\n",
    "\n",
    "This just means translating the formula above ($\\frac{1}{2}G\\frac{M}{R^2}t^2$) into Python code.  You'll have to replace each variable in the math formula with the name we gave that number in Python code."
   ]
  },
  {
   "cell_type": "code",
   "execution_count": 34,
   "metadata": {},
   "outputs": [
    {
     "data": {
      "text/plain": [
       "0.040223694659304865"
      ]
     },
     "execution_count": 34,
     "metadata": {},
     "output_type": "execute_result"
    }
   ],
   "source": [
    "# First, we've written down the values of the 3 universal\n",
    "# constants that show up in Newton's formula.\n",
    "\n",
    "# G, the universal constant measuring the strength of gravity.\n",
    "gravity_constant = 6.674 * 10**-11\n",
    "\n",
    "# M, the moon's mass, in kilograms.\n",
    "moon_mass_kg = 7.34767309 * 10**22\n",
    "\n",
    "# R, the radius of the moon, in meters.\n",
    "moon_radius_m = 1.737 * 10**6\n",
    "\n",
    "# The distance the hammer should have fallen over the\n",
    "# duration of the fall, in meters, according to Newton's\n",
    "# law of gravity.  The text above describes the formula\n",
    "# for this distance given by Newton's law.\n",
    "# **YOU FILL THIS PART IN.**\n",
    "predicted_distance_m = 1/2*gravity_constant*moon_mass_kg/(moon_radius_m**2)*(time**2)\n",
    "\n",
    "# Here we've computed the difference between the predicted\n",
    "# fall distance and the distance we actually measured.\n",
    "# If you've filled in the above code, this should just work.\n",
    "difference = predicted_distance_m - estimated_distance_m\n",
    "difference"
   ]
  },
  {
   "cell_type": "markdown",
   "metadata": {},
   "source": [
    "# 4. Lists\n",
    "\n",
    "It is very convenient, including in machine learning, to want to structure data. The most basic data structure in Python is the sequence. Each element of a sequence is assigned a number - its position or index. The first index is zero, the second index is one, and so forth.\n",
    "One of the most common and important sequences is the List."
   ]
  },
  {
   "cell_type": "code",
   "execution_count": 36,
   "metadata": {
    "collapsed": true
   },
   "outputs": [],
   "source": [
    "# Creating a list is as simple as putting different comma-separated values between square brackets.\n",
    "\n",
    "list1 = ['physics', 'chemistry', 1997, 2000];\n",
    "list2 = [1, 2, 3, 4, 5 ];\n",
    "list3 = [\"a\", \"b\", \"c\", \"d\"]"
   ]
  },
  {
   "cell_type": "code",
   "execution_count": 39,
   "metadata": {},
   "outputs": [
    {
     "name": "stdout",
     "output_type": "stream",
     "text": [
      "physics\n",
      "4\n",
      "d\n"
     ]
    }
   ],
   "source": [
    "# To access values in lists, use the square brackets with the index to obtain value available at that index\n",
    "# Watch out ! In Python, indices start at 0.\n",
    "\n",
    "print(list1[0])\n",
    "print(list2[3])\n",
    "\n",
    "# You can also access a range of values with \"slicing\", specifying start and end indices, separating by a colon\n",
    "\n",
    "print(list3[-1])"
   ]
  },
  {
   "cell_type": "markdown",
   "metadata": {},
   "source": [
    "# 5. Control Flow\n",
    "\n",
    "In the programs we have seen until now, there has always been a series of statements faithfully executed by Python in exact top-down order. What if you wanted to change the flow of how it works?\n"
   ]
  },
  {
   "cell_type": "markdown",
   "metadata": {},
   "source": [
    "## 5.1 For loop\n",
    "\n",
    "The for loop is very convenient if, for example, you want to perform repeated operations on a series of numbers. It allows you to automate this, rather than writing everything one by one."
   ]
  },
  {
   "cell_type": "code",
   "execution_count": 40,
   "metadata": {},
   "outputs": [
    {
     "name": "stdout",
     "output_type": "stream",
     "text": [
      "10\n",
      "20\n",
      "10\n",
      "20\n",
      "14\n",
      "7.0\n",
      "18\n",
      "hi\n"
     ]
    }
   ],
   "source": [
    "# Let's say we want to double each number in the following list and print it.\n",
    "\n",
    "a_list = [5, 10, 7, 3.5, 9]\n",
    "\n",
    "# We could simply write \n",
    "\n",
    "print(2 * a_list[0])\n",
    "print(2 * a_list[1])\n",
    "# etc...\n",
    "\n",
    "# But imagine if the list contains thousands of numbers !\n",
    "# This can be very conveniently done with a for loop.\n",
    "# Notice how the syntax is similar to spoken english, which is one of the beauties of Python.\n",
    "\n",
    "for element in a_list:\n",
    "    print(2 * number)\n",
    "    \n",
    "print('hi')\n",
    "\n",
    "for index in range(4):\n",
    "    print(a_list[index])"
   ]
  },
  {
   "cell_type": "markdown",
   "metadata": {},
   "source": [
    "## 5.2 If statement\n",
    "\n",
    "This control flow is central to programming. It allows you to perform different operations depending on what happens in the program. \n",
    "\n",
    "This can be for basic arithmetic\n",
    "\"If the variable if greater than 10, double it. Else, add 2 to it.\"\n",
    "\n",
    "\n",
    "But it's the same idea for very advanced applications like self driving cars\n",
    "\"If there is a pedestrian, stop. Else, keep driving. \""
   ]
  },
  {
   "cell_type": "code",
   "execution_count": null,
   "metadata": {},
   "outputs": [],
   "source": [
    "### Perform different arithmetic operations depending on the value of x.\n",
    "\n",
    "# Notice the basic equality conditions: \n",
    "# x greater than z: x > z (greater than or equal is >=)\n",
    "# x smaller than z: x < z (smaller than or equal is <=)\n",
    "# x equals to z: x == z \n",
    "\n",
    "# Change the value of x to see how the value of y is impacted.\n",
    "\n",
    "\n",
    "x = -50\n",
    "\n",
    "if (x >= 50):\n",
    "    \n",
    "    y = 2 * x\n",
    "    \n",
    "elif (x == 10):\n",
    "    \n",
    "    y = x + 6\n",
    "    \n",
    "else:\n",
    "    y = -x\n",
    "    \n",
    "print(y)\n",
    "    "
   ]
  },
  {
   "cell_type": "markdown",
   "metadata": {},
   "source": [
    "# 6. Functions\n",
    "## 6.1 Calling Functions\n",
    "\n",
    "The most common way to combine or manipulate values in Python is by calling functions. Python comes with many built-in functions that perform common operations.\n",
    "\n",
    "For example, the `abs` function takes a single number as its argument and returns the absolute value of that number.  The absolute value of a number is its distance from 0 on the number line, so `abs(5)` is 5 and `abs(-5)` is also 5."
   ]
  },
  {
   "cell_type": "code",
   "execution_count": null,
   "metadata": {},
   "outputs": [],
   "source": [
    "abs(5)"
   ]
  },
  {
   "cell_type": "code",
   "execution_count": null,
   "metadata": {},
   "outputs": [],
   "source": [
    "abs(-5)"
   ]
  },
  {
   "cell_type": "markdown",
   "metadata": {},
   "source": [
    "## 6.2 Defining functions\n",
    "\n",
    "You could also define your own functions to perform a set of operations. Defining functions involves using the `def` keyword. "
   ]
  },
  {
   "cell_type": "code",
   "execution_count": null,
   "metadata": {},
   "outputs": [],
   "source": [
    "# For example, we define a multiplication function as follows:\n",
    "def multiplication(x, y):\n",
    "    return x * y\n",
    "\n",
    "# And then the function can be called using its name and by providing its input:\n",
    "print(multiplication(2, 3))"
   ]
  },
  {
   "cell_type": "markdown",
   "metadata": {},
   "source": [
    "**Question 6.2.1** Define a function that takes the height and width of an object, and returns its perimeter as an output. Test your function to calculate the perimeter of The Dubai Frame. "
   ]
  },
  {
   "cell_type": "code",
   "execution_count": null,
   "metadata": {
    "collapsed": true
   },
   "outputs": [],
   "source": [
    "... "
   ]
  },
  {
   "cell_type": "markdown",
   "metadata": {},
   "source": [
    "# 7. Classes\n",
    "\n",
    "Python supports the programming paradigm called Object Oriented Programming. It allows you to define \"real world\" objects, their behavior, and the way they interact with each other. This makes coding very intuitive and natural, as we can replicate the world we experience around us.\n",
    "The great thing about classes is that once you've implemented the class cat (see below), you can reuse it and create as many objects (cats) as you want."
   ]
  },
  {
   "cell_type": "code",
   "execution_count": null,
   "metadata": {
    "collapsed": true
   },
   "outputs": [],
   "source": [
    "class cat:\n",
    "    # The __init__ function is the most important one for a class,\n",
    "    # without which it would not work.\n",
    "    # This function gets called when you create an object of this class (like in the cell below),\n",
    "    # and it assigns the parameters to the object\n",
    "    \n",
    "    def __init__(self, name, age):\n",
    "        # Notice how the keyword 'self' appears in every function:\n",
    "        # this simply refers to the object itself, to which we for example can assign\n",
    "        # parameters, like the way we assign the name below\n",
    "        self.name = name\n",
    "        self.age = age \n",
    "        self.legs = 4 \n",
    "        \n",
    "    def __repr__(self):\n",
    "        # The __repr__ function is useful, as it allows you to call 'print' on your object,\n",
    "        # and output any sentence you want\n",
    "        return \"This is a cat, his name is \" + self.name\n",
    "    \n",
    "    def meow(self):\n",
    "        # Besides a few predefined functions such as __init__ and __repr__\n",
    "        # you can define ANY function you want, to define behaviour for your class.\n",
    "        # For instance, a cat will meow and eat, or a car will turn.\n",
    "        print(\"MEOOOOW\")\n",
    "        \n",
    "    def eat(self, cat_food):\n",
    "        # A beautiful thing about objects, is that they can interact with each other.\n",
    "        # Here, the cat interacts with an object 'catFood' (defined below), and can \n",
    "        # modify ther attributes.\n",
    "        if (cat_food.num_chunks>0):\n",
    "            cat_food.num_chunks -= 1\n",
    "        else: \n",
    "            print (\"No more food :(\")\n",
    "    \n",
    "    \n",
    "class catFood:\n",
    "    def __init__(self, num_chunks):\n",
    "        self.num_chunks = num_chunks\n",
    "    \n",
    "    def __repr__(self):\n",
    "        return \"There is \" + str(self.num_chunks) + \" chunks of cat food\""
   ]
  },
  {
   "cell_type": "code",
   "execution_count": null,
   "metadata": {
    "collapsed": true
   },
   "outputs": [],
   "source": [
    "Cookie_the_cat = cat(name = \"Cookie\", age = 10)\n",
    "Bob_the_cat = cat(name = 'Bob', age = 2)\n",
    "food = catFood(num_chunks = 100)\n",
    "\n",
    "### Note: we have defined a class, and this class has methods (or functions) to define its behavior \n",
    "### How do we call the functions of an object? Simply object.function()\n",
    "### /!\\ You don't need to include the 'self' argument.\n",
    "\n",
    "Cookie_the_cat.meow()\n",
    "\n",
    "### Another cool thing about objects, is that you can change their variables after you've defined them ! \n",
    "\n",
    "print(\"The cat is \" + str(Cookie_the_cat.age) + ' years old')\n",
    "\n",
    "Cookie_the_cat.age = 4 # You can modify this\n",
    "\n",
    "print(\"Now he cat is \" + str(Cookie_the_cat.age) + ' years old')\n"
   ]
  },
  {
   "cell_type": "markdown",
   "metadata": {},
   "source": [
    "** Question ** Print the number of chunks of cat food. Note that the class 'catFood' has the method '__repr__', so you can call print() directly on an object of the class catFood.\n",
    "Make Cookie eat some food, then print the number of chunks again."
   ]
  },
  {
   "cell_type": "code",
   "execution_count": null,
   "metadata": {
    "collapsed": true
   },
   "outputs": [],
   "source": []
  }
 ],
 "metadata": {
  "anaconda-cloud": {},
  "kernelspec": {
   "display_name": "Python 3",
   "language": "python",
   "name": "python3"
  },
  "language_info": {
   "codemirror_mode": {
    "name": "ipython",
    "version": 3
   },
   "file_extension": ".py",
   "mimetype": "text/x-python",
   "name": "python",
   "nbconvert_exporter": "python",
   "pygments_lexer": "ipython3",
   "version": "3.6.3"
  },
  "nbTranslate": {
   "displayLangs": [
    "*"
   ],
   "hotkey": "alt-t",
   "langInMainMenu": true,
   "sourceLang": "en",
   "targetLang": "fr",
   "useGoogleTranslate": true
  }
 },
 "nbformat": 4,
 "nbformat_minor": 1
}
