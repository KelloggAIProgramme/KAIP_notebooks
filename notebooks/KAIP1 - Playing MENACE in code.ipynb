{
 "cells": [
  {
   "cell_type": "markdown",
   "metadata": {},
   "source": [
    "# Exercise 3: MENACE <img src=\"kaip_logo_header.png\" align=\"right\">\n",
    "\n",
    "## Learning in machines\n",
    "\n",
    "The ability to learn is not unique to the biological world, and is captured in our neural network models. However, the concept of machine learning goes against many of the commonly held beliefs about computersö that they can only do what they are programmed to do and cannot adapt to their surroundings.\n",
    "\n",
    "Whilst this is true on an atomic level that the program controls the machine, the behaviour that results does not have to be so rigid and deterministic. Having a computer learn to respond correctly to any given input, or learn to play a game, is not a simple concept and it is often felt that complicated programs and systems are required to achieve such behaviour.\n",
    "\n",
    "*MENACE* (Matchbox Educable Noughts And Crosses Engine) is a machine developed by Donale Michie in the early 1960's that learns to play the game of tic-tac-toe (noughts and crosses).\n",
    "\n",
    "<img src=\"tic-tac-toe.png\" width=\"25%\"/>\n",
    "\n",
    "MENACE consists of 288 matchboxes, one for every possible distinct board position that the opening player can encounter. Each matchbox is then filled with a random selection of coloured beads, each colour representing a move to a corresponding colour on the board. The game is played by selecting at random a bead from the matchbox that corresponds to the current board position, with the colour selected determining the machine's move. The first game is played, with the machine moving completely at random. >When the game is over, the outcome is fed back into the machine so that it can adapt its behaviour in light of the outcome. In other words, **it can learn to play better next time**.\n",
    "\n",
    "<img src=\"MENACE.jpg\">\n",
    "\n",
    "This is achieved by reinforcing all the moves that were ultimately successful when the machine won, and by decreasing the chance of it making the same bad moves that led to a defeat. Learning therefore becomes adding a bead of teh same colour to bnoxes represemntinmg a successful series of moves, or by removing a bead of the colour that led to defeat. A draw means that the number of beads remains the same. This slow process of learning continues until the probability of the machine making a good move far outweights the chance of it making a bad one. Once it has learnt, the machine is then almost invincible, and the best that can be hoped for is to consistently draw with it.\n",
    "\n"
   ]
  },
  {
   "cell_type": "markdown",
   "metadata": {},
   "source": [
    "**What are the possible states in tic-tac-toe?**\n",
    "\n",
    "**Why does MENACE require far fewer states?**\n",
    "\n",
    "(Much) fewer than 3^9 = 19683 but today we can afford to represent them all."
   ]
  },
  {
   "cell_type": "markdown",
   "metadata": {},
   "source": [
    "For this exercise, we can model the mechanisms of MENACE with Python code, and play tic-tac-toe using a set of pre-defined functions."
   ]
  },
  {
   "cell_type": "code",
   "execution_count": null,
   "metadata": {},
   "outputs": [],
   "source": [
    "# a dictionary with states as keys, and gum drops for possible moves.\n",
    "\n",
    "def board2string(board): # : Board -> String\n",
    "    str = ''\n",
    "    for i in range(3):\n",
    "        for j in range(3):\n",
    "            str += '|' + board[i][j]\n",
    "        str += '|\\n'\n",
    "    return str\n",
    "\n",
    "def printBoard(board):  # : Board -> IO\n",
    "    print(board2string(board))\n",
    "    \n",
    "testBoard = [['X', ' ', ' '], [' ', 'O', ' '], ['X', ' ', ' ']]\n",
    "\n",
    "def initGumDrops(board):   # : Board -> List Pos\n",
    "    gd = []\n",
    "    for i in range(3):\n",
    "        for j in range(3):\n",
    "            if (board[i][j] == ' '):\n",
    "                gd += [(i, j)] * 30;\n",
    "    return gd\n",
    "\n",
    "import random\n",
    "\n",
    "def pickGumDrop(gs):       # : List Pos ~> Pos  Not a function!\n",
    "    g = random.choice(gs)\n",
    "    gs.remove(g)\n",
    "    return g\n",
    "\n",
    "def putBackGumDrop(gs, g): # : (List Pos, Pos) -> None  Not a function!\n",
    "    gs.append(g)\n",
    "\n",
    "emptyRow = ([' '] * 3)\n",
    "initBoard = [emptyRow] * 3\n",
    "\n",
    "def countOs(board):  # Board -> Nat\n",
    "    n = 0\n",
    "    for row in range(3):\n",
    "        n += board[row].count('O')\n",
    "    return n\n",
    "\n",
    "def countXs(board):  # Board -> Nat\n",
    "    n = 0\n",
    "    for row in range(3):\n",
    "        n += board[row].count('X')\n",
    "    return n\n",
    "\n",
    "def copyBoard(board): # Board -> Board\n",
    "    newBoard = []\n",
    "    for i in range(len(board)):\n",
    "        newRow = []\n",
    "        for j in range(len(board[i])):\n",
    "            newRow.append(board[i][j])\n",
    "        newBoard.append(newRow)\n",
    "    return newBoard\n",
    "\n",
    "def moveAt(board, pos): # (Board, Pos) -> Board\n",
    "    newBoard = copyBoard(board)\n",
    "    player = ''\n",
    "    if (countXs(board) <= countOs(board)):\n",
    "        player = 'X'\n",
    "    else:\n",
    "        player = 'O'\n",
    "    i = pos[0]\n",
    "    j = pos[1]\n",
    "    newBoard[i][j] = player\n",
    "    return newBoard"
   ]
  },
  {
   "cell_type": "code",
   "execution_count": null,
   "metadata": {},
   "outputs": [],
   "source": [
    "printBoard(initBoard)"
   ]
  },
  {
   "cell_type": "code",
   "execution_count": null,
   "metadata": {},
   "outputs": [],
   "source": [
    "initGumDrops(initBoard)"
   ]
  },
  {
   "cell_type": "code",
   "execution_count": null,
   "metadata": {},
   "outputs": [],
   "source": [
    "initBoard"
   ]
  },
  {
   "cell_type": "code",
   "execution_count": null,
   "metadata": {},
   "outputs": [],
   "source": [
    "printBoard(testBoard)"
   ]
  },
  {
   "cell_type": "code",
   "execution_count": null,
   "metadata": {},
   "outputs": [],
   "source": []
  }
 ],
 "metadata": {
  "kernelspec": {
   "display_name": "Python 3",
   "language": "python",
   "name": "python3"
  },
  "language_info": {
   "codemirror_mode": {
    "name": "ipython",
    "version": 3
   },
   "file_extension": ".py",
   "mimetype": "text/x-python",
   "name": "python",
   "nbconvert_exporter": "python",
   "pygments_lexer": "ipython3",
   "version": "3.7.0"
  },
  "nbTranslate": {
   "displayLangs": [
    "*"
   ],
   "hotkey": "alt-t",
   "langInMainMenu": true,
   "sourceLang": "en",
   "targetLang": "fr",
   "useGoogleTranslate": true
  }
 },
 "nbformat": 4,
 "nbformat_minor": 2
}
