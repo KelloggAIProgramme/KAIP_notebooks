{
 "cells": [
  {
   "cell_type": "markdown",
   "metadata": {},
   "source": [
    "# Data Anonymization\n",
    "\n",
    "## Background\n",
    "\n",
    "A hospital located in Oxford wants to conduct research to look at how a number of health conditions\n",
    "are related to age and gender. They also would like to look at the spatial distribution of the results. Finally, they would like to be able to get back to individual patients' information after the study is done.\n",
    "They outsource this task to a data analytics startup created by two\n",
    "Oxford grad students : ShaZen.\n",
    "Before transferring the data to ShaZen, the hospital needs to make sure its patients information\n",
    "is well protected, and therefore they conduct data anonymization using the K-anonymity method. \n",
    "\n",
    "They assess the risk of breach by an adversary to rather low, at 1%. Given that they want to bring the overall chances of re-indentification of their patients at about one in five hundred, what value of K should they choose? \n",
    "\n",
    "## The dataset\n",
    "\n",
    "The data consists of the records of 100 patients with their name, age, gender, postcode, admission and discharge dates, and their diagnosis codes. \n",
    "Diagnosis codes are following the International Statistical Classification of Diseases and Related Health Problems 10th edition (ICD-10), a medical classification list by the World Health Organization. \n",
    "The ones present in the dataset are:\n",
    "- I519: Cardiac Arrest\n",
    "- J189: Pneumonia\n",
    "- E116: Complications of diabetes\n",
    "- A419: Scepsis\n",
    "- B20: HIV\n",
    "\n",
    "\n",
    "## The method\n",
    "Let's remember the workflow of anonymisation, which will be implemented in the rest of the notebook\n",
    "\n",
    "- Determine the release model: public or non plublic. \n",
    "- Determine the acceptable re-identification risk threshold.\n",
    "- Classify data attributes (direct, indirect, non identifiers).\n",
    "- Remove unused attributes.\n",
    "- Anonymise direct and indirect identifiers.\n",
    "- Determine actual risk and compare against threshold.\n",
    "- Perform more anonymisation if necessary.\n",
    "- Evaluate solution: does the utility meet the target?\n",
    "- Determine controls required.\n",
    "- Document the anonymisation process.\n",
    "\n"
   ]
  },
  {
   "cell_type": "markdown",
   "metadata": {},
   "source": [
    "### Import libraries \n",
    "We will be using Pandas, a very powerful open source data manipulation library"
   ]
  },
  {
   "cell_type": "code",
   "execution_count": 2,
   "metadata": {
    "collapsed": true
   },
   "outputs": [],
   "source": [
    "import numpy as np\n",
    "import pandas as pd\n",
    "pd.options.mode.chained_assignment = None  # default='warn'\n",
    "import datetime"
   ]
  },
  {
   "cell_type": "markdown",
   "metadata": {},
   "source": [
    "### Load the dataset "
   ]
  },
  {
   "cell_type": "code",
   "execution_count": 3,
   "metadata": {},
   "outputs": [
    {
     "data": {
      "text/html": [
       "<div>\n",
       "<style>\n",
       "    .dataframe thead tr:only-child th {\n",
       "        text-align: right;\n",
       "    }\n",
       "\n",
       "    .dataframe thead th {\n",
       "        text-align: left;\n",
       "    }\n",
       "\n",
       "    .dataframe tbody tr th {\n",
       "        vertical-align: top;\n",
       "    }\n",
       "</style>\n",
       "<table border=\"1\" class=\"dataframe\">\n",
       "  <thead>\n",
       "    <tr style=\"text-align: right;\">\n",
       "      <th></th>\n",
       "      <th>Names</th>\n",
       "      <th>Age</th>\n",
       "      <th>Gender</th>\n",
       "      <th>Postcode</th>\n",
       "      <th>Admission date</th>\n",
       "      <th>Discharge date</th>\n",
       "      <th>Diagnosis code</th>\n",
       "      <th>Dr name</th>\n",
       "    </tr>\n",
       "  </thead>\n",
       "  <tbody>\n",
       "    <tr>\n",
       "      <th>0</th>\n",
       "      <td>Dylan Misondo</td>\n",
       "      <td>39</td>\n",
       "      <td>M</td>\n",
       "      <td>OX3 5TG</td>\n",
       "      <td>2016-10-10 00:49:41</td>\n",
       "      <td>2016-12-13 01:57:51</td>\n",
       "      <td>J189</td>\n",
       "      <td>Meredith Gray</td>\n",
       "    </tr>\n",
       "    <tr>\n",
       "      <th>1</th>\n",
       "      <td>Barbara Doe</td>\n",
       "      <td>49</td>\n",
       "      <td>F</td>\n",
       "      <td>OX1 8VD</td>\n",
       "      <td>2017-01-11 11:38:49</td>\n",
       "      <td>2017-01-23 14:58:51</td>\n",
       "      <td>A419</td>\n",
       "      <td>Meredith Gray</td>\n",
       "    </tr>\n",
       "    <tr>\n",
       "      <th>2</th>\n",
       "      <td>Maeva Erbal</td>\n",
       "      <td>48</td>\n",
       "      <td>F</td>\n",
       "      <td>OX3 1GR</td>\n",
       "      <td>2018-09-10 14:58:34</td>\n",
       "      <td>2018-09-15 20:59:49</td>\n",
       "      <td>A419</td>\n",
       "      <td>Gregory House</td>\n",
       "    </tr>\n",
       "    <tr>\n",
       "      <th>3</th>\n",
       "      <td>Michael Toren</td>\n",
       "      <td>58</td>\n",
       "      <td>M</td>\n",
       "      <td>OX2 9IR</td>\n",
       "      <td>2018-02-01 01:24:58</td>\n",
       "      <td>2018-04-15 17:27:59</td>\n",
       "      <td>I519</td>\n",
       "      <td>Hugh Laurie</td>\n",
       "    </tr>\n",
       "    <tr>\n",
       "      <th>4</th>\n",
       "      <td>Alice Toren</td>\n",
       "      <td>36</td>\n",
       "      <td>F</td>\n",
       "      <td>OX4 8EX</td>\n",
       "      <td>2018-11-26 22:00:31</td>\n",
       "      <td>2018-12-28 23:37:58</td>\n",
       "      <td>A419</td>\n",
       "      <td>Meredith Gray</td>\n",
       "    </tr>\n",
       "    <tr>\n",
       "      <th>5</th>\n",
       "      <td>Eve Matet</td>\n",
       "      <td>34</td>\n",
       "      <td>F</td>\n",
       "      <td>OX3 5FR</td>\n",
       "      <td>2017-11-15 12:52:33</td>\n",
       "      <td>2017-11-24 12:53:41</td>\n",
       "      <td>A419</td>\n",
       "      <td>Gregory House</td>\n",
       "    </tr>\n",
       "    <tr>\n",
       "      <th>6</th>\n",
       "      <td>Michael Brown</td>\n",
       "      <td>50</td>\n",
       "      <td>M</td>\n",
       "      <td>OX2 1PF</td>\n",
       "      <td>2018-01-19 18:02:43</td>\n",
       "      <td>2018-03-28 21:30:47</td>\n",
       "      <td>A419</td>\n",
       "      <td>Meredith Gray</td>\n",
       "    </tr>\n",
       "    <tr>\n",
       "      <th>7</th>\n",
       "      <td>Zoe Matet</td>\n",
       "      <td>45</td>\n",
       "      <td>F</td>\n",
       "      <td>OX3 6MG</td>\n",
       "      <td>2018-03-24 15:36:37</td>\n",
       "      <td>2018-04-27 19:56:56</td>\n",
       "      <td>A419</td>\n",
       "      <td>Meredith Gray</td>\n",
       "    </tr>\n",
       "    <tr>\n",
       "      <th>8</th>\n",
       "      <td>Maeva Doe</td>\n",
       "      <td>57</td>\n",
       "      <td>F</td>\n",
       "      <td>OX1 4DQ</td>\n",
       "      <td>2018-01-15 18:11:40</td>\n",
       "      <td>2018-03-20 22:20:51</td>\n",
       "      <td>E116</td>\n",
       "      <td>Meredith Gray</td>\n",
       "    </tr>\n",
       "    <tr>\n",
       "      <th>9</th>\n",
       "      <td>Zoe Erbal</td>\n",
       "      <td>39</td>\n",
       "      <td>F</td>\n",
       "      <td>OX4 2SS</td>\n",
       "      <td>2016-04-02 19:07:37</td>\n",
       "      <td>2016-06-13 19:50:57</td>\n",
       "      <td>I519</td>\n",
       "      <td>Hugh Laurie</td>\n",
       "    </tr>\n",
       "  </tbody>\n",
       "</table>\n",
       "</div>"
      ],
      "text/plain": [
       "           Names  Age Gender Postcode       Admission date  \\\n",
       "0  Dylan Misondo   39      M  OX3 5TG  2016-10-10 00:49:41   \n",
       "1    Barbara Doe   49      F  OX1 8VD  2017-01-11 11:38:49   \n",
       "2    Maeva Erbal   48      F  OX3 1GR  2018-09-10 14:58:34   \n",
       "3  Michael Toren   58      M  OX2 9IR  2018-02-01 01:24:58   \n",
       "4    Alice Toren   36      F  OX4 8EX  2018-11-26 22:00:31   \n",
       "5      Eve Matet   34      F  OX3 5FR  2017-11-15 12:52:33   \n",
       "6  Michael Brown   50      M  OX2 1PF  2018-01-19 18:02:43   \n",
       "7      Zoe Matet   45      F  OX3 6MG  2018-03-24 15:36:37   \n",
       "8      Maeva Doe   57      F  OX1 4DQ  2018-01-15 18:11:40   \n",
       "9      Zoe Erbal   39      F  OX4 2SS  2016-04-02 19:07:37   \n",
       "\n",
       "        Discharge date Diagnosis code         Dr name  \n",
       "0  2016-12-13 01:57:51           J189   Meredith Gray  \n",
       "1  2017-01-23 14:58:51           A419   Meredith Gray  \n",
       "2  2018-09-15 20:59:49           A419  Gregory House   \n",
       "3  2018-04-15 17:27:59           I519     Hugh Laurie  \n",
       "4  2018-12-28 23:37:58           A419   Meredith Gray  \n",
       "5  2017-11-24 12:53:41           A419  Gregory House   \n",
       "6  2018-03-28 21:30:47           A419   Meredith Gray  \n",
       "7  2018-04-27 19:56:56           A419   Meredith Gray  \n",
       "8  2018-03-20 22:20:51           E116   Meredith Gray  \n",
       "9  2016-06-13 19:50:57           I519     Hugh Laurie  "
      ]
     },
     "execution_count": 3,
     "metadata": {},
     "output_type": "execute_result"
    }
   ],
   "source": [
    "### read the dataset CSV file.\n",
    "df = pd.read_csv('dataset_anonymisation.csv', index_col=0)\n",
    "\n",
    "### Let's look at a few records\n",
    "df.iloc[:10]"
   ]
  },
  {
   "cell_type": "markdown",
   "metadata": {},
   "source": [
    "### Step 1: Determine the release model\n",
    "Q: Is the release model public or non public?\n",
    "\n",
    "A: The data is only going to be released to ShaZen, making the release model non public."
   ]
  },
  {
   "cell_type": "markdown",
   "metadata": {},
   "source": [
    "### Step 2: Determine the acceptable re-identification risk threshold\n",
    "Q: Which threshold did the hospital decide on?\n",
    "\n",
    "A: The hospital wants the chance of re-identification to be one in five hundreds, or 0.02%. With the equation P(re-ID) = Pkanon * P(breach), replacing P(re-ID) = 0.002 and P(breach) = 0.01, and Pkanon = 1/K, we get K = 5."
   ]
  },
  {
   "cell_type": "markdown",
   "metadata": {},
   "source": [
    "### Step 3: Classify data attributes\n",
    "Q: Write down all the attributes in the dataset, and if they are direct, indirect, or non identifiers.\n",
    "\n",
    "A: Names and postcode are direct identifiers, the rest are indirect."
   ]
  },
  {
   "cell_type": "markdown",
   "metadata": {},
   "source": [
    "### Step 4: Remove unused attributes\n",
    "Q: Given the research direction of the hospital, which attributes can be removed without affecting utility?\n",
    "\n",
    "\n",
    "A: For this particular study, the hospital is not interested in the doctor treating the patients, so we can safely remove this attribute without affecting the utility of this dataset for the study."
   ]
  },
  {
   "cell_type": "code",
   "execution_count": 4,
   "metadata": {},
   "outputs": [
    {
     "data": {
      "text/html": [
       "<div>\n",
       "<style>\n",
       "    .dataframe thead tr:only-child th {\n",
       "        text-align: right;\n",
       "    }\n",
       "\n",
       "    .dataframe thead th {\n",
       "        text-align: left;\n",
       "    }\n",
       "\n",
       "    .dataframe tbody tr th {\n",
       "        vertical-align: top;\n",
       "    }\n",
       "</style>\n",
       "<table border=\"1\" class=\"dataframe\">\n",
       "  <thead>\n",
       "    <tr style=\"text-align: right;\">\n",
       "      <th></th>\n",
       "      <th>Names</th>\n",
       "      <th>Age</th>\n",
       "      <th>Gender</th>\n",
       "      <th>Postcode</th>\n",
       "      <th>Admission date</th>\n",
       "      <th>Discharge date</th>\n",
       "      <th>Diagnosis code</th>\n",
       "    </tr>\n",
       "  </thead>\n",
       "  <tbody>\n",
       "    <tr>\n",
       "      <th>0</th>\n",
       "      <td>Dylan Misondo</td>\n",
       "      <td>39</td>\n",
       "      <td>M</td>\n",
       "      <td>OX3 5TG</td>\n",
       "      <td>2016-10-10 00:49:41</td>\n",
       "      <td>2016-12-13 01:57:51</td>\n",
       "      <td>J189</td>\n",
       "    </tr>\n",
       "    <tr>\n",
       "      <th>1</th>\n",
       "      <td>Barbara Doe</td>\n",
       "      <td>49</td>\n",
       "      <td>F</td>\n",
       "      <td>OX1 8VD</td>\n",
       "      <td>2017-01-11 11:38:49</td>\n",
       "      <td>2017-01-23 14:58:51</td>\n",
       "      <td>A419</td>\n",
       "    </tr>\n",
       "    <tr>\n",
       "      <th>2</th>\n",
       "      <td>Maeva Erbal</td>\n",
       "      <td>48</td>\n",
       "      <td>F</td>\n",
       "      <td>OX3 1GR</td>\n",
       "      <td>2018-09-10 14:58:34</td>\n",
       "      <td>2018-09-15 20:59:49</td>\n",
       "      <td>A419</td>\n",
       "    </tr>\n",
       "    <tr>\n",
       "      <th>3</th>\n",
       "      <td>Michael Toren</td>\n",
       "      <td>58</td>\n",
       "      <td>M</td>\n",
       "      <td>OX2 9IR</td>\n",
       "      <td>2018-02-01 01:24:58</td>\n",
       "      <td>2018-04-15 17:27:59</td>\n",
       "      <td>I519</td>\n",
       "    </tr>\n",
       "    <tr>\n",
       "      <th>4</th>\n",
       "      <td>Alice Toren</td>\n",
       "      <td>36</td>\n",
       "      <td>F</td>\n",
       "      <td>OX4 8EX</td>\n",
       "      <td>2018-11-26 22:00:31</td>\n",
       "      <td>2018-12-28 23:37:58</td>\n",
       "      <td>A419</td>\n",
       "    </tr>\n",
       "    <tr>\n",
       "      <th>5</th>\n",
       "      <td>Eve Matet</td>\n",
       "      <td>34</td>\n",
       "      <td>F</td>\n",
       "      <td>OX3 5FR</td>\n",
       "      <td>2017-11-15 12:52:33</td>\n",
       "      <td>2017-11-24 12:53:41</td>\n",
       "      <td>A419</td>\n",
       "    </tr>\n",
       "    <tr>\n",
       "      <th>6</th>\n",
       "      <td>Michael Brown</td>\n",
       "      <td>50</td>\n",
       "      <td>M</td>\n",
       "      <td>OX2 1PF</td>\n",
       "      <td>2018-01-19 18:02:43</td>\n",
       "      <td>2018-03-28 21:30:47</td>\n",
       "      <td>A419</td>\n",
       "    </tr>\n",
       "    <tr>\n",
       "      <th>7</th>\n",
       "      <td>Zoe Matet</td>\n",
       "      <td>45</td>\n",
       "      <td>F</td>\n",
       "      <td>OX3 6MG</td>\n",
       "      <td>2018-03-24 15:36:37</td>\n",
       "      <td>2018-04-27 19:56:56</td>\n",
       "      <td>A419</td>\n",
       "    </tr>\n",
       "    <tr>\n",
       "      <th>8</th>\n",
       "      <td>Maeva Doe</td>\n",
       "      <td>57</td>\n",
       "      <td>F</td>\n",
       "      <td>OX1 4DQ</td>\n",
       "      <td>2018-01-15 18:11:40</td>\n",
       "      <td>2018-03-20 22:20:51</td>\n",
       "      <td>E116</td>\n",
       "    </tr>\n",
       "    <tr>\n",
       "      <th>9</th>\n",
       "      <td>Zoe Erbal</td>\n",
       "      <td>39</td>\n",
       "      <td>F</td>\n",
       "      <td>OX4 2SS</td>\n",
       "      <td>2016-04-02 19:07:37</td>\n",
       "      <td>2016-06-13 19:50:57</td>\n",
       "      <td>I519</td>\n",
       "    </tr>\n",
       "  </tbody>\n",
       "</table>\n",
       "</div>"
      ],
      "text/plain": [
       "           Names  Age Gender Postcode       Admission date  \\\n",
       "0  Dylan Misondo   39      M  OX3 5TG  2016-10-10 00:49:41   \n",
       "1    Barbara Doe   49      F  OX1 8VD  2017-01-11 11:38:49   \n",
       "2    Maeva Erbal   48      F  OX3 1GR  2018-09-10 14:58:34   \n",
       "3  Michael Toren   58      M  OX2 9IR  2018-02-01 01:24:58   \n",
       "4    Alice Toren   36      F  OX4 8EX  2018-11-26 22:00:31   \n",
       "5      Eve Matet   34      F  OX3 5FR  2017-11-15 12:52:33   \n",
       "6  Michael Brown   50      M  OX2 1PF  2018-01-19 18:02:43   \n",
       "7      Zoe Matet   45      F  OX3 6MG  2018-03-24 15:36:37   \n",
       "8      Maeva Doe   57      F  OX1 4DQ  2018-01-15 18:11:40   \n",
       "9      Zoe Erbal   39      F  OX4 2SS  2016-04-02 19:07:37   \n",
       "\n",
       "        Discharge date Diagnosis code  \n",
       "0  2016-12-13 01:57:51           J189  \n",
       "1  2017-01-23 14:58:51           A419  \n",
       "2  2018-09-15 20:59:49           A419  \n",
       "3  2018-04-15 17:27:59           I519  \n",
       "4  2018-12-28 23:37:58           A419  \n",
       "5  2017-11-24 12:53:41           A419  \n",
       "6  2018-03-28 21:30:47           A419  \n",
       "7  2018-04-27 19:56:56           A419  \n",
       "8  2018-03-20 22:20:51           E116  \n",
       "9  2016-06-13 19:50:57           I519  "
      ]
     },
     "execution_count": 4,
     "metadata": {},
     "output_type": "execute_result"
    }
   ],
   "source": [
    "### Use the drop method of the panda dataframe object to remove the two columns \n",
    "df = df.drop(['Dr name'], axis = 1)\n",
    "\n",
    "### Look at the result\n",
    "df.iloc[:10]"
   ]
  },
  {
   "cell_type": "markdown",
   "metadata": {},
   "source": [
    "### Step 5: Anonymise direct and indirect identifiers \n",
    "\n",
    "We are left with seven identifiers: two direct and five indirect.\n",
    "\n",
    "\n",
    "\n"
   ]
  },
  {
   "cell_type": "markdown",
   "metadata": {},
   "source": [
    "### Name\n",
    "Let's start with the name.\n",
    "The hospital wants to be able to get back to the identity of the patient at the end of the study, so we will use\n",
    "pseudonymization.\n",
    "There is a csv file containing a table of pseudonymes, which we can load using Pandas.\n",
    "\n"
   ]
  },
  {
   "cell_type": "code",
   "execution_count": null,
   "metadata": {},
   "outputs": [],
   "source": [
    "### Read the pseudonymisation table csv\n",
    "df_pseudos = pd.read_csv('pseudonymisation_table.csv',index_col=0)\n",
    "\n",
    "### Let's look at some values\n",
    "df_pseudos.iloc[:10]"
   ]
  },
  {
   "cell_type": "markdown",
   "metadata": {},
   "source": [
    "We can then simply replace the values of the 'Name' attribute with the values of the 'Pseudonyme' attribute."
   ]
  },
  {
   "cell_type": "code",
   "execution_count": null,
   "metadata": {},
   "outputs": [],
   "source": [
    "### Loop over the names in the dataset and get the corresponding pseudonyme\n",
    "\n",
    "for index in range(len(df.index)):\n",
    "    name = df['Names'].iloc[index]\n",
    "    df['Names'].iloc[index] = df_pseudos['Pseudonyme'].loc[name]\n",
    "\n",
    "### Look at some values\n",
    "df.iloc[:10]"
   ]
  },
  {
   "cell_type": "markdown",
   "metadata": {},
   "source": [
    "### Age\n",
    "\n",
    "Age is an indirect identifier, and for the purposes of achieving K-anonymity we will use data perturbation, more specifically base-5 rounding.\n",
    "It is important to notice that by doing this we are degrading the accuracy of a useful feature of the dataset. \n",
    "This is part of the tradeoff between anonynimity and utility."
   ]
  },
  {
   "cell_type": "code",
   "execution_count": null,
   "metadata": {},
   "outputs": [],
   "source": [
    "### Define a simple helper function for rounding to a given base\n",
    "def myround(x, base=5):\n",
    "    return int(base * round(float(x)/base))\n",
    "\n",
    "\n",
    "### Round the ages in the dataset.\n",
    "df['Age'] = pd.Series(map(myround, df['Age']))\n",
    "\n",
    "### Look at some values\n",
    "df.iloc[:10]"
   ]
  },
  {
   "cell_type": "markdown",
   "metadata": {},
   "source": [
    "### Gender\n",
    "This is an indirect identifier, but we can see that it already satisfies the K-anonymity condition. Therefore no further action is necessary."
   ]
  },
  {
   "cell_type": "markdown",
   "metadata": {},
   "source": [
    "### Postcode\n",
    "\n",
    "Oxford postcode work in the following way: the first three letters-digits combination refers to a rather large area (four in total in Oxford) and the three latter refer to a specific house in that area.\n",
    "Postcode is a direct identifier, and we will again need to lose some utility in order to satisfy the anonymity threshold. We will perturb the value in the records and remove the latter three letters-digits combination, thus keeping the general area only."
   ]
  },
  {
   "cell_type": "code",
   "execution_count": null,
   "metadata": {},
   "outputs": [],
   "source": [
    "### Keep only first half of the postcode \n",
    "df['Postcode'] = pd.Series([pcode.strip().split()[0] for pcode in df['Postcode']])\n",
    "\n",
    "### Look at some values\n",
    "df.iloc[:10]"
   ]
  },
  {
   "cell_type": "markdown",
   "metadata": {},
   "source": [
    "### Admission and discharge dates\n",
    "\n",
    "The hospital does not necessarily need time as one of the features of the dataset so it potentially could have been removed as an unused attribute. It was however kept, but does not need to be very precise, so we can only keep the year information and remove the rest."
   ]
  },
  {
   "cell_type": "code",
   "execution_count": null,
   "metadata": {},
   "outputs": [],
   "source": [
    "### Parse the string and keep only the year\n",
    "df['Admission date'] = pd.Series([date.strip().split('-')[0] for date in df['Admission date']])\n",
    "df['Discharge date'] = pd.Series([date.strip().split('-')[0] for date in df['Discharge date']])\n",
    "\n",
    "### Look at some values\n",
    "df.iloc[:10]"
   ]
  },
  {
   "cell_type": "markdown",
   "metadata": {},
   "source": [
    "### Diagnosis code\n",
    "\n",
    "The remaining attribute is the diagnosis code, an indirect identifier. \n",
    "To understand how many different attributes and their frequency, we need to do some data exploration, which Pandas is very convenient for.\n"
   ]
  },
  {
   "cell_type": "code",
   "execution_count": null,
   "metadata": {},
   "outputs": [],
   "source": [
    "### Value count identifies unique values and returns their frequencies\n",
    "value_count = df['Diagnosis code'].value_counts()\n",
    "\n",
    "### Let's look at the results\n",
    "value_count"
   ]
  },
  {
   "cell_type": "markdown",
   "metadata": {},
   "source": [
    "We can see that the HIV code B20 is unique. Removing the whole \"Diagnosis code\" attribute is of course out of the question, but we can sacrifice the unique record without losing much utility."
   ]
  },
  {
   "cell_type": "code",
   "execution_count": null,
   "metadata": {},
   "outputs": [],
   "source": [
    "### Remove the row containing the B20 value for \"Diagnosis code\"\n",
    "df = df.drop(df.loc[df['Diagnosis code'] == 'B20'].index[0], axis = 0 ) "
   ]
  },
  {
   "cell_type": "code",
   "execution_count": null,
   "metadata": {
    "scrolled": true
   },
   "outputs": [],
   "source": [
    "### Look at the dataset\n",
    "df"
   ]
  },
  {
   "cell_type": "markdown",
   "metadata": {},
   "source": [
    "## Step 6: Determine actual risk and compare against threshold\n",
    "\n",
    "Q: What is the k-anonimity of the dataset now? Compare against the risk threshold decided on by the hospital.\n",
    "\n",
    "A: With the code below, we can see that the minimum K in this dataset is 5. Therefore the dataset is 5-anonymous. This is just enough to satisfy the threshold."
   ]
  },
  {
   "cell_type": "code",
   "execution_count": null,
   "metadata": {},
   "outputs": [],
   "source": [
    "### Print the value counts of all attributes.\n",
    "\n",
    "print(\"Values and frequency for Age attribute\")\n",
    "print(pd.value_counts(df['Age']))\n",
    "print('\\n')\n",
    "\n",
    "print(\"Values and frequency for Gender attribute\")\n",
    "print(pd.value_counts(df['Gender']))\n",
    "print('\\n')\n",
    "\n",
    "print(\"Values and frequency for Postcode attribute\")\n",
    "print(pd.value_counts(df['Postcode']))\n",
    "print('\\n')\n",
    "\n",
    "print(\"Values and frequency for Admission date attribute\")\n",
    "print(pd.value_counts(df['Admission date']))\n",
    "print('\\n')\n",
    "\n",
    "print(\"Values and frequency for Discharge date attribute\")\n",
    "print(pd.value_counts(df['Discharge date']))\n",
    "print('\\n')\n",
    "\n",
    "print(\"Values and frequency for Diagnosis code attribute\")\n",
    "print(pd.value_counts(df['Diagnosis code']))\n",
    "print('\\n')\n"
   ]
  },
  {
   "cell_type": "markdown",
   "metadata": {},
   "source": [
    "## Step 7: Perform more anonymisation if necessary\n",
    "\n",
    "Q: Is any more anonymisation required?\n",
    "\n",
    "A: No, we satisfied the risk threshold."
   ]
  },
  {
   "cell_type": "markdown",
   "metadata": {},
   "source": [
    "## Step 8: Evaluate solution: does the utility meet the target?\n",
    "\n",
    "Q: Does the utility meet the target?\n",
    "\n",
    "A: The main attributes of interest for the study are still present, despite some data perturbation applied to gender and address. The utility should therefore meet the desired target. \n"
   ]
  },
  {
   "cell_type": "markdown",
   "metadata": {},
   "source": [
    "## Step 9: Determine controls required\n",
    "\n",
    "Q: Which controls would you implement?\n",
    "\n",
    "A: We can implement a variety of controls. The hospital chooses to implement a query only revocable access system for ShaZen. Additionally, all their databases (including pseudonymisation) are kept on encrypted hard drives in safes within the hospital."
   ]
  },
  {
   "cell_type": "markdown",
   "metadata": {},
   "source": [
    "## Step 10: Document the anonymisation process\n",
    "\n",
    "Q: Write a summary of the anonymization process that was implemented.\n",
    "\n",
    "A: \n",
    "We applied k-anonymisation through the following steps:\n",
    "- We removed the attribute 'Dr Name'\n",
    "- We pseudonymised the 'Names' attribute. The pseudonyme database will be kept in a secure location in a hard drive in a safe in the hospital.\n",
    "- We applied data perturbation with a base 5 rounding on the 'Age attribute'.\n",
    "- We performed data perturbation on the 'Postcode' attribute by only keeping the first digit-letter combination.\n",
    "- We performed data perturbation on  the 'Admission date' and 'Discharge date' attributes, by only keeping the year information, and discarding the rest.\n",
    "- We removed record number 99 containing the single 'B20' value for the 'Diagnosis code attribute'.\n"
   ]
  },
  {
   "cell_type": "code",
   "execution_count": null,
   "metadata": {
    "collapsed": true
   },
   "outputs": [],
   "source": []
  }
 ],
 "metadata": {
  "kernelspec": {
   "display_name": "Python 3",
   "language": "python",
   "name": "python3"
  },
  "language_info": {
   "codemirror_mode": {
    "name": "ipython",
    "version": 3
   },
   "file_extension": ".py",
   "mimetype": "text/x-python",
   "name": "python",
   "nbconvert_exporter": "python",
   "pygments_lexer": "ipython3",
   "version": "3.6.3"
  }
 },
 "nbformat": 4,
 "nbformat_minor": 2
}
